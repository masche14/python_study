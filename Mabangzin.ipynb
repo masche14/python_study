{
 "cells": [
  {
   "cell_type": "code",
   "execution_count": 32,
   "id": "df55b41e",
   "metadata": {},
   "outputs": [],
   "source": [
    "# 필요패키지 import\n",
    "import time\n",
    "from tqdm.notebook import tqdm\n",
    "import json\n",
    "import urllib\n",
    "import requests\n",
    "import numpy as np\n",
    "import pandas as pd\n",
    "import matplotlib.pyplot as plt\n",
    "import seaborn as sns\n",
    "import pyautogui\n",
    "from datetime import datetime, timedelta\n",
    "from dateutil.relativedelta import relativedelta\n",
    "import clipboard\n",
    "import pyperclip\n",
    "import dataframe_image\n",
    "from google_play_scraper import Sort, app, reviews_all\n",
    "import nltk\n",
    "import folium\n",
    "from selenium.webdriver.common.action_chains import ActionChains\n",
    "import random\n",
    "\n",
    "# konlpy\n",
    "from konlpy.tag import Okt\n",
    "okt=Okt()\n",
    "\n",
    "from tensorflow.keras.preprocessing.sequence import pad_sequences\n",
    "from tensorflow.keras.preprocessing.text import Tokenizer\n",
    "from geopy.geocoders import Nominatim\n",
    "geo_local = Nominatim(user_agent='South Korea')\n",
    "\n",
    "# 셀레니움 import\n",
    "from selenium import webdriver\n",
    "from selenium.webdriver.common.keys import Keys\n",
    "from selenium.webdriver.chrome.service import Service\n",
    "from webdriver_manager.chrome import ChromeDriverManager\n",
    "from selenium.webdriver.common.by import By\n",
    "from selenium.webdriver.chrome.options import Options\n",
    "from selenium.webdriver.support import expected_conditions as EC\n",
    "\n",
    "# webdriver 자동설정\n",
    "def set_chrome_driver():\n",
    "    chrome_options = webdriver.ChromeOptions()\n",
    "    driver = webdriver.Chrome(service=Service(), options=chrome_options)\n",
    "    return driver\n",
    "driver=set_chrome_driver()\n",
    "driver.close()\n",
    "\n",
    "\n",
    "import time\n",
    "import warnings\n",
    "warnings.filterwarnings(action='ignore')\n",
    "from bs4 import BeautifulSoup\n",
    "\n",
    "from pytesseract import Output\n",
    "import pytesseract\n",
    "import cv2\n",
    "\n",
    "import urllib.request\n",
    "from PIL import Image\n",
    "class AppURLopener(urllib.request.FancyURLopener):\n",
    "    version = \"Mozilla/5.0\"\n",
    "    \n",
    "urllib._urlopener = AppURLopener()\n",
    "\n",
    "import os\n",
    "import keyboard\n",
    "import getpass\n",
    "from sqlalchemy import create_engine\n",
    "\n",
    "def driverxpath(x):\n",
    "    return driver.find_element(By.XPATH, x)\n",
    "\n",
    "def drivercss(x):\n",
    "    return driver.find_element(By.CSS_SELECTOR, x)\n",
    "\n",
    "def createFolder(directory):\n",
    "    try:\n",
    "        if not os.path.exists(directory):\n",
    "            os.makedirs(directory)\n",
    "        else:\n",
    "            print(f'{directory} 폴더가 이미 존재합니다.')\n",
    "    except OSError:\n",
    "        print ('Error: Creating directory. ' +  directory)"
   ]
  },
  {
   "cell_type": "markdown",
   "id": "06bcaf72",
   "metadata": {},
   "source": [
    "# 마방진 구현하기\n",
    "- 마방진\n",
    "    - 마방진이란 1부터 N제곱의 숫자를 정사각형의 형태(N × N)에 겹치지 않게 채워 넣었을 때 가로, 세로, 대각선의 합이 모두 같은 숫자 배열"
   ]
  },
  {
   "cell_type": "code",
   "execution_count": 83,
   "id": "3772efb2",
   "metadata": {},
   "outputs": [
    {
     "name": "stdout",
     "output_type": "stream",
     "text": [
      "몇 방진인지 입력하세요 : 3\n"
     ]
    },
    {
     "data": {
      "text/plain": [
       "array([[1, 2, 9],\n",
       "       [8, 6, 5],\n",
       "       [3, 4, 7]])"
      ]
     },
     "execution_count": 83,
     "metadata": {},
     "output_type": "execute_result"
    }
   ],
   "source": [
    "bang=int(input('몇 방진인지 입력하세요 : '))\n",
    "num_list=[i for i in range(1, bang**2+1)]\n",
    "num_list\n",
    "pick_list=num_list[0:]\n",
    "sub_array=[]\n",
    "total_array=[]\n",
    "\n",
    "for i in range(1,bang**2+1):\n",
    "    ran_num=random.sample(pick_list,1)[0]\n",
    "    sub_array.append(ran_num)\n",
    "    num_idx=pick_list.index(ran_num)\n",
    "    del pick_list[num_idx]\n",
    "    \n",
    "    \n",
    "    if i%bang==0:\n",
    "        total_array.append(sub_array)\n",
    "        sub_array=[]\n",
    "        \n",
    "np.array(total_array)"
   ]
  },
  {
   "cell_type": "markdown",
   "id": "5452d9e0",
   "metadata": {},
   "source": [
    "# 수들의 합 구하기"
   ]
  },
  {
   "cell_type": "code",
   "execution_count": 113,
   "id": "959fdb9a",
   "metadata": {},
   "outputs": [
    {
     "name": "stdout",
     "output_type": "stream",
     "text": [
      "* 가로 1줄 합 : 12, 세로 1줄 합: 12\n",
      "* 가로 2줄 합 : 19, 세로 2줄 합: 12\n",
      "* 가로 3줄 합 : 14, 세로 3줄 합: 21\n",
      "* 왼쪽 대각선 값들의 합 : 14\n",
      "* 오른쪽 대각선 값들의 합 : 14\n",
      "\n",
      "* 방진이 틀렸습니다.\n"
     ]
    }
   ],
   "source": [
    "hap_list=[]\n",
    "\n",
    "for i in range(bang):\n",
    "    hor_hap = np.sum(total_array[i])\n",
    "    print(f'* 가로 {i+1}줄 합 : {hor_hap}', end=', ')\n",
    "    hap_list.append(hor_hap)\n",
    "    \n",
    "    ver_hap = 0\n",
    "    for j in range(bang):\n",
    "        ver_hap=ver_hap + total_array[j][i]\n",
    "    \n",
    "    print(f'세로 {i+1}줄 합: {ver_hap}')\n",
    "    hap_list.append(ver_hap)\n",
    "\n",
    "left_to_right_diagonal_hap = 0\n",
    "\n",
    "for i in range(bang):\n",
    "    left_to_right_diagonal_hap = left_to_right_diagonal_hap + total_array[i][i]\n",
    "\n",
    "print(f'* 왼쪽 대각선 값들의 합 : {left_to_right_diagonal_hap}')\n",
    "hap_list.append(left_to_right_diagonal_hap)\n",
    "\n",
    "right_to_left_diagonal_hap = 0\n",
    "\n",
    "for i in range(bang-1,-1,-1):\n",
    "    right_to_left_diagonal_hap = right_to_left_diagonal_hap + total_array[i][i]\n",
    "    \n",
    "print(f'* 오른쪽 대각선 값들의 합 : {right_to_left_diagonal_hap}')\n",
    "hap_list.append(right_to_left_diagonal_hap)\n",
    "\n",
    "print()\n",
    "\n",
    "if len(np.unique(hap_list))==1:\n",
    "    print(f'* {bang} 방진이 완성되었습니다.')\n",
    "else:\n",
    "    print(f'* 방진이 틀렸습니다.')"
   ]
  }
 ],
 "metadata": {
  "kernelspec": {
   "display_name": "Python 3 (ipykernel)",
   "language": "python",
   "name": "python3"
  },
  "language_info": {
   "codemirror_mode": {
    "name": "ipython",
    "version": 3
   },
   "file_extension": ".py",
   "mimetype": "text/x-python",
   "name": "python",
   "nbconvert_exporter": "python",
   "pygments_lexer": "ipython3",
   "version": "3.10.9"
  }
 },
 "nbformat": 4,
 "nbformat_minor": 5
}
